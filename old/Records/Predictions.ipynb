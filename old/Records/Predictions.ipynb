{
 "cells": [
  {
   "cell_type": "code",
   "execution_count": 5,
   "id": "588d88c4",
   "metadata": {},
   "outputs": [
    {
     "name": "stdout",
     "output_type": "stream",
     "text": [
      "Applied providers: ['CPUExecutionProvider'], with options: {'CPUExecutionProvider': {}}\n",
      "find model: insightface_model\\models\\buffalo_sc\\det_500m.onnx detection [1, 3, '?', '?'] 127.5 128.0\n",
      "Applied providers: ['CPUExecutionProvider'], with options: {'CPUExecutionProvider': {}}\n",
      "find model: insightface_model\\models\\buffalo_sc\\w600k_mbf.onnx recognition ['None', 3, 112, 112] 127.5 127.5\n",
      "set det-size: (640, 640)\n"
     ]
    }
   ],
   "source": [
    "import face_rec"
   ]
  },
  {
   "cell_type": "code",
   "execution_count": 6,
   "id": "ea8558e8",
   "metadata": {},
   "outputs": [],
   "source": [
    "import pandas as pd\n",
    "import numpy as np\n",
    "import cv2"
   ]
  },
  {
   "cell_type": "code",
   "execution_count": 7,
   "id": "00a47b3f",
   "metadata": {},
   "outputs": [
    {
     "data": {
      "text/plain": [
       "True"
      ]
     },
     "execution_count": 7,
     "metadata": {},
     "output_type": "execute_result"
    }
   ],
   "source": [
    "face_rec.r.ping()"
   ]
  },
  {
   "cell_type": "markdown",
   "id": "d25d421e",
   "metadata": {},
   "source": [
    "#### Step-1: Extract Data from database"
   ]
  },
  {
   "cell_type": "code",
   "execution_count": 24,
   "id": "d234b10c",
   "metadata": {},
   "outputs": [
    {
     "data": {
      "text/html": [
       "<div>\n",
       "<style scoped>\n",
       "    .dataframe tbody tr th:only-of-type {\n",
       "        vertical-align: middle;\n",
       "    }\n",
       "\n",
       "    .dataframe tbody tr th {\n",
       "        vertical-align: top;\n",
       "    }\n",
       "\n",
       "    .dataframe thead th {\n",
       "        text-align: right;\n",
       "    }\n",
       "</style>\n",
       "<table border=\"1\" class=\"dataframe\">\n",
       "  <thead>\n",
       "    <tr style=\"text-align: right;\">\n",
       "      <th></th>\n",
       "      <th>name_role</th>\n",
       "      <th>facial_features</th>\n",
       "      <th>Name</th>\n",
       "      <th>Role</th>\n",
       "    </tr>\n",
       "  </thead>\n",
       "  <tbody>\n",
       "    <tr>\n",
       "      <th>0</th>\n",
       "      <td>Abdul Kalam@Teacher</td>\n",
       "      <td>[-0.38639936, -1.201683, 0.17475073, -0.233374...</td>\n",
       "      <td>Abdul Kalam</td>\n",
       "      <td>Teacher</td>\n",
       "    </tr>\n",
       "    <tr>\n",
       "      <th>1</th>\n",
       "      <td>Arvind Kejriwal@Student</td>\n",
       "      <td>[-0.349936, 0.009792837, 0.09995638, -0.312416...</td>\n",
       "      <td>Arvind Kejriwal</td>\n",
       "      <td>Student</td>\n",
       "    </tr>\n",
       "    <tr>\n",
       "      <th>2</th>\n",
       "      <td>Actor Vijay@Student</td>\n",
       "      <td>[-0.77745473, -1.0058682, -0.5529729, 0.343021...</td>\n",
       "      <td>Actor Vijay</td>\n",
       "      <td>Student</td>\n",
       "    </tr>\n",
       "    <tr>\n",
       "      <th>3</th>\n",
       "      <td>Amitabh Bhachchan@Student</td>\n",
       "      <td>[-0.14923494, 1.0485445, -0.41196242, 0.844359...</td>\n",
       "      <td>Amitabh Bhachchan</td>\n",
       "      <td>Student</td>\n",
       "    </tr>\n",
       "    <tr>\n",
       "      <th>4</th>\n",
       "      <td>Narendra Modi@Teacher</td>\n",
       "      <td>[-0.13332304, -0.12751162, -0.07908755, -0.151...</td>\n",
       "      <td>Narendra Modi</td>\n",
       "      <td>Teacher</td>\n",
       "    </tr>\n",
       "    <tr>\n",
       "      <th>5</th>\n",
       "      <td>Leanse@Student</td>\n",
       "      <td>[0.5377822, -0.7828235, 2.1317146, 1.3069595, ...</td>\n",
       "      <td>Leanse</td>\n",
       "      <td>Student</td>\n",
       "    </tr>\n",
       "  </tbody>\n",
       "</table>\n",
       "</div>"
      ],
      "text/plain": [
       "                   name_role  \\\n",
       "0        Abdul Kalam@Teacher   \n",
       "1    Arvind Kejriwal@Student   \n",
       "2        Actor Vijay@Student   \n",
       "3  Amitabh Bhachchan@Student   \n",
       "4      Narendra Modi@Teacher   \n",
       "5             Leanse@Student   \n",
       "\n",
       "                                     facial_features               Name  \\\n",
       "0  [-0.38639936, -1.201683, 0.17475073, -0.233374...        Abdul Kalam   \n",
       "1  [-0.349936, 0.009792837, 0.09995638, -0.312416...    Arvind Kejriwal   \n",
       "2  [-0.77745473, -1.0058682, -0.5529729, 0.343021...        Actor Vijay   \n",
       "3  [-0.14923494, 1.0485445, -0.41196242, 0.844359...  Amitabh Bhachchan   \n",
       "4  [-0.13332304, -0.12751162, -0.07908755, -0.151...      Narendra Modi   \n",
       "5  [0.5377822, -0.7828235, 2.1317146, 1.3069595, ...             Leanse   \n",
       "\n",
       "      Role  \n",
       "0  Teacher  \n",
       "1  Student  \n",
       "2  Student  \n",
       "3  Student  \n",
       "4  Teacher  \n",
       "5  Student  "
      ]
     },
     "execution_count": 24,
     "metadata": {},
     "output_type": "execute_result"
    }
   ],
   "source": [
    "name = 'academy:register'\n",
    "retrive_dict= face_rec.r.hgetall(name)\n",
    "retrive_series = pd.Series(retrive_dict)\n",
    "# retrive_series\n",
    "retrive_series = retrive_series.apply(lambda x: np.frombuffer(x,dtype=np.float32))\n",
    "# retrive_series\n",
    "index = retrive_series.index\n",
    "index = list(map(lambda x: x.decode(), index))\n",
    "retrive_series.index = index\n",
    "retrive_series.index\n",
    "retrive_df =  retrive_series.to_frame().reset_index()\n",
    "retrive_df.columns = ['name_role','facial_features']\n",
    "retrive_df[['Name','Role']] = retrive_df['name_role'].apply(lambda x: x.split('@')).apply(pd.Series)\n",
    "retrive_df"
   ]
  },
  {
   "cell_type": "markdown",
   "id": "5641843d",
   "metadata": {},
   "source": [
    "### Step-2: Get Real - Time Prediction"
   ]
  },
  {
   "cell_type": "code",
   "execution_count": 26,
   "id": "c7042031",
   "metadata": {},
   "outputs": [],
   "source": [
    "cap = cv2.VideoCapture(0) # default , # 1 for external camera\n",
    "\n",
    "while True:\n",
    "    ret, frame = cap.read()\n",
    "    \n",
    "    if ret == False:\n",
    "        break\n",
    "    #module from python file  \n",
    "    pred_frame = face_rec.face_prediction(frame,retrive_df,'facial_features',['Name','Role'],thresh=0.5)\n",
    "    \n",
    "    #cv2.imshow('frame',frame)\n",
    "    cv2.imshow('prediciton',pred_frame)\n",
    "    \n",
    "    if cv2.waitKey(1) == 27: # if i press esc button this condition will get triggered\n",
    "        break\n",
    "        \n",
    "cv2.destroyAllWindows()\n",
    "cap.release()"
   ]
  },
  {
   "cell_type": "markdown",
   "id": "bbe93ef2",
   "metadata": {},
   "source": [
    "### [END](https://www.udemy.com/user/freeai-space/)"
   ]
  }
 ],
 "metadata": {
  "kernelspec": {
   "display_name": "Python 3 (ipykernel)",
   "language": "python",
   "name": "python3"
  },
  "language_info": {
   "codemirror_mode": {
    "name": "ipython",
    "version": 3
   },
   "file_extension": ".py",
   "mimetype": "text/x-python",
   "name": "python",
   "nbconvert_exporter": "python",
   "pygments_lexer": "ipython3",
   "version": "3.11.5"
  }
 },
 "nbformat": 4,
 "nbformat_minor": 5
}
